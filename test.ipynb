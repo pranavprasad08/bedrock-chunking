{
 "cells": [
  {
   "cell_type": "markdown",
   "metadata": {},
   "source": [
    "# Test Processor\n"
   ]
  },
  {
   "cell_type": "code",
   "execution_count": null,
   "metadata": {},
   "outputs": [],
   "source": [
    "from process_pdf import PDFProcessor"
   ]
  },
  {
   "cell_type": "code",
   "execution_count": null,
   "metadata": {},
   "outputs": [],
   "source": [
    "chunker = PDFProcessor()"
   ]
  },
  {
   "cell_type": "code",
   "execution_count": null,
   "metadata": {},
   "outputs": [],
   "source": [
    "file_content = r\"D:\\exxonpocaws\\datafiles\\a500.pdf\"\n",
    "s3 = None\n",
    "input_bucket = None"
   ]
  },
  {
   "cell_type": "code",
   "execution_count": null,
   "metadata": {},
   "outputs": [],
   "source": [
    "chunked_content = chunker.process_pdf(file_content, s3, input_bucket)"
   ]
  },
  {
   "cell_type": "code",
   "execution_count": null,
   "metadata": {},
   "outputs": [],
   "source": [
    "chunked_content"
   ]
  },
  {
   "cell_type": "markdown",
   "metadata": {},
   "source": [
    "# Test Lambda Function\n"
   ]
  },
  {
   "cell_type": "code",
   "execution_count": null,
   "metadata": {},
   "outputs": [],
   "source": [
    "from lambda_function import lambda_handler\n",
    "import json\n",
    "from dotenv import load_dotenv\n"
   ]
  },
  {
   "cell_type": "code",
   "execution_count": null,
   "metadata": {},
   "outputs": [],
   "source": [
    "\n",
    "# Sample context (mock it if needed)\n",
    "class Context:\n",
    "    def __init__(self):\n",
    "        self.aws_request_id = \"test\"\n"
   ]
  },
  {
   "cell_type": "code",
   "execution_count": null,
   "metadata": {},
   "outputs": [],
   "source": [
    "context = Context()"
   ]
  },
  {
   "cell_type": "code",
   "execution_count": null,
   "metadata": {},
   "outputs": [],
   "source": [
    "# Load the event.json file\n",
    "with open('test_event.json', 'r') as file:\n",
    "    event = json.load(file)"
   ]
  },
  {
   "cell_type": "code",
   "execution_count": null,
   "metadata": {},
   "outputs": [],
   "source": [
    "load_dotenv()"
   ]
  },
  {
   "cell_type": "code",
   "execution_count": null,
   "metadata": {},
   "outputs": [],
   "source": [
    "# Invoke the function\n",
    "response = lambda_handler(event, context)\n",
    "print(response)"
   ]
  },
  {
   "cell_type": "markdown",
   "metadata": {},
   "source": [
    "# Download Models\n"
   ]
  },
  {
   "cell_type": "code",
   "execution_count": null,
   "metadata": {},
   "outputs": [],
   "source": [
    "from transformers import CLIPProcessor, CLIPModel"
   ]
  },
  {
   "cell_type": "code",
   "execution_count": null,
   "metadata": {},
   "outputs": [],
   "source": [
    "# Specify your local folder for storing the model\n",
    "local_folder = \"./local_models/clip-vit-base-patch32\"\n",
    "\n",
    "# Download and save the model and processor locally\n",
    "model = CLIPModel.from_pretrained(\"openai/clip-vit-base-patch32\", cache_dir=local_folder)\n",
    "processor = CLIPProcessor.from_pretrained(\"openai/clip-vit-base-patch32\", cache_dir=local_folder)\n",
    "\n",
    "# Save the model locally\n",
    "model.save_pretrained(\"./local_models/model/clip-vit-base-patch32\")\n",
    "processor.save_pretrained(\"./local_models/processor/clip-vit-base-patch32\")"
   ]
  },
  {
   "cell_type": "code",
   "execution_count": null,
   "metadata": {},
   "outputs": [],
   "source": [
    "# Use a pipeline as a high-level helper\n",
    "from transformers import pipeline"
   ]
  },
  {
   "cell_type": "code",
   "execution_count": null,
   "metadata": {},
   "outputs": [],
   "source": [
    "local_folder = \"./local_models/blip-image-captioning-base/\""
   ]
  },
  {
   "cell_type": "code",
   "execution_count": null,
   "metadata": {},
   "outputs": [],
   "source": [
    "pipe = pipeline(\"image-to-text\", model=\"Salesforce/blip-image-captioning-base\")"
   ]
  },
  {
   "cell_type": "code",
   "execution_count": null,
   "metadata": {},
   "outputs": [],
   "source": [
    "pipe.save_pretrained(local_folder)"
   ]
  },
  {
   "cell_type": "code",
   "execution_count": 1,
   "metadata": {},
   "outputs": [
    {
     "name": "stderr",
     "output_type": "stream",
     "text": [
      "c:\\Users\\prana\\anaconda3\\envs\\genai\\lib\\site-packages\\tqdm\\auto.py:21: TqdmWarning: IProgress not found. Please update jupyter and ipywidgets. See https://ipywidgets.readthedocs.io/en/stable/user_install.html\n",
      "  from .autonotebook import tqdm as notebook_tqdm\n",
      "Config of the encoder: <class 'transformers.models.vit.modeling_vit.ViTModel'> is overwritten by shared encoder config: ViTConfig {\n",
      "  \"architectures\": [\n",
      "    \"ViTModel\"\n",
      "  ],\n",
      "  \"attention_probs_dropout_prob\": 0.0,\n",
      "  \"encoder_stride\": 16,\n",
      "  \"hidden_act\": \"gelu\",\n",
      "  \"hidden_dropout_prob\": 0.0,\n",
      "  \"hidden_size\": 768,\n",
      "  \"image_size\": 224,\n",
      "  \"initializer_range\": 0.02,\n",
      "  \"intermediate_size\": 3072,\n",
      "  \"layer_norm_eps\": 1e-12,\n",
      "  \"model_type\": \"vit\",\n",
      "  \"num_attention_heads\": 12,\n",
      "  \"num_channels\": 3,\n",
      "  \"num_hidden_layers\": 12,\n",
      "  \"patch_size\": 16,\n",
      "  \"qkv_bias\": true,\n",
      "  \"transformers_version\": \"4.46.2\"\n",
      "}\n",
      "\n",
      "Config of the decoder: <class 'transformers.models.gpt2.modeling_gpt2.GPT2LMHeadModel'> is overwritten by shared decoder config: GPT2Config {\n",
      "  \"activation_function\": \"gelu_new\",\n",
      "  \"add_cross_attention\": true,\n",
      "  \"architectures\": [\n",
      "    \"GPT2LMHeadModel\"\n",
      "  ],\n",
      "  \"attn_pdrop\": 0.1,\n",
      "  \"bos_token_id\": 50256,\n",
      "  \"decoder_start_token_id\": 50256,\n",
      "  \"embd_pdrop\": 0.1,\n",
      "  \"eos_token_id\": 50256,\n",
      "  \"initializer_range\": 0.02,\n",
      "  \"is_decoder\": true,\n",
      "  \"layer_norm_epsilon\": 1e-05,\n",
      "  \"model_type\": \"gpt2\",\n",
      "  \"n_ctx\": 1024,\n",
      "  \"n_embd\": 768,\n",
      "  \"n_head\": 12,\n",
      "  \"n_inner\": null,\n",
      "  \"n_layer\": 12,\n",
      "  \"n_positions\": 1024,\n",
      "  \"pad_token_id\": 50256,\n",
      "  \"reorder_and_upcast_attn\": false,\n",
      "  \"resid_pdrop\": 0.1,\n",
      "  \"scale_attn_by_inverse_layer_idx\": false,\n",
      "  \"scale_attn_weights\": true,\n",
      "  \"summary_activation\": null,\n",
      "  \"summary_first_dropout\": 0.1,\n",
      "  \"summary_proj_to_labels\": true,\n",
      "  \"summary_type\": \"cls_index\",\n",
      "  \"summary_use_proj\": true,\n",
      "  \"task_specific_params\": {\n",
      "    \"text-generation\": {\n",
      "      \"do_sample\": true,\n",
      "      \"max_length\": 50\n",
      "    }\n",
      "  },\n",
      "  \"transformers_version\": \"4.46.2\",\n",
      "  \"use_cache\": true,\n",
      "  \"vocab_size\": 50257\n",
      "}\n",
      "\n"
     ]
    }
   ],
   "source": [
    "from transformers import pipeline\n",
    "local_folder = \"./local_models/vit-gpt2-image-captioning/\"\n",
    "pipe = pipeline(\"image-to-text\", model=\"nlpconnect/vit-gpt2-image-captioning\")\n",
    "pipe.save_pretrained(local_folder)"
   ]
  },
  {
   "cell_type": "code",
   "execution_count": null,
   "metadata": {},
   "outputs": [],
   "source": []
  },
  {
   "cell_type": "code",
   "execution_count": null,
   "metadata": {},
   "outputs": [],
   "source": []
  },
  {
   "cell_type": "markdown",
   "metadata": {},
   "source": [
    "random\n"
   ]
  },
  {
   "cell_type": "code",
   "execution_count": null,
   "metadata": {},
   "outputs": [],
   "source": [
    "num_pages = 133\n",
    "num_threads=4"
   ]
  },
  {
   "cell_type": "code",
   "execution_count": null,
   "metadata": {},
   "outputs": [],
   "source": [
    "chunk_size = -(-num_pages // num_threads)  # Ceiling division for chunk size\n",
    "page_ranges = [list(range(i, min(i + chunk_size, num_pages))) for i in range(0, num_pages, chunk_size)]\n",
    "\n",
    "print(page_ranges)"
   ]
  },
  {
   "cell_type": "code",
   "execution_count": null,
   "metadata": {},
   "outputs": [],
   "source": [
    "page_ranges"
   ]
  },
  {
   "cell_type": "code",
   "execution_count": null,
   "metadata": {},
   "outputs": [],
   "source": [
    "page_ranges = [range(0,34), range(34,68), range(68, 102), range(102, 133)]"
   ]
  },
  {
   "cell_type": "code",
   "execution_count": null,
   "metadata": {},
   "outputs": [],
   "source": [
    "import pymupdf4llm\n",
    "from concurrent.futures import ThreadPoolExecutor, as_completed"
   ]
  },
  {
   "cell_type": "code",
   "execution_count": null,
   "metadata": {},
   "outputs": [],
   "source": [
    "futures=[]\n",
    "with ThreadPoolExecutor() as executor:\n",
    "    for pages in page_ranges:\n",
    "        futures.append(executor.submit(pymupdf4llm.to_markdown, r\"C:\\Users\\prana\\Downloads\\archive\\Manuals\\coffee machine1.pdf\", page_chunks=True, pages = pages))"
   ]
  },
  {
   "cell_type": "code",
   "execution_count": null,
   "metadata": {},
   "outputs": [],
   "source": [
    "futures[-1].result()[2]"
   ]
  },
  {
   "cell_type": "code",
   "execution_count": 2,
   "metadata": {},
   "outputs": [],
   "source": [
    "import fitz"
   ]
  },
  {
   "cell_type": "code",
   "execution_count": 3,
   "metadata": {},
   "outputs": [],
   "source": [
    "doc = fitz.open(r\"D:\\exxonpocaws\\datafiles\\a500.pdf\"\n",
    ") "
   ]
  },
  {
   "cell_type": "code",
   "execution_count": 11,
   "metadata": {},
   "outputs": [
    {
     "data": {
      "text/plain": [
       "pymupdf.Page"
      ]
     },
     "execution_count": 11,
     "metadata": {},
     "output_type": "execute_result"
    }
   ],
   "source": [
    "type(doc[0])"
   ]
  },
  {
   "cell_type": "code",
   "execution_count": 2,
   "metadata": {},
   "outputs": [
    {
     "name": "stdout",
     "output_type": "stream",
     "text": [
      "0\n",
      "1\n",
      "2\n",
      "3\n"
     ]
    }
   ],
   "source": [
    "for i in range(0, 4):\n",
    "    print(i)"
   ]
  },
  {
   "cell_type": "code",
   "execution_count": 12,
   "metadata": {},
   "outputs": [],
   "source": [
    "page_count = 133\n",
    "num_threads = 4\n",
    "overlap = 2\n",
    "page_ranges = [\n",
    "    list(range(\n",
    "        max(0, i * (page_count // num_threads) - overlap), \n",
    "        min(page_count, (i + 1) * (page_count // num_threads) + overlap)\n",
    "    ))\n",
    "    for i in range(num_threads)\n",
    "]"
   ]
  },
  {
   "cell_type": "markdown",
   "metadata": {},
   "source": []
  },
  {
   "cell_type": "code",
   "execution_count": 13,
   "metadata": {},
   "outputs": [
    {
     "data": {
      "text/plain": [
       "[[0,\n",
       "  1,\n",
       "  2,\n",
       "  3,\n",
       "  4,\n",
       "  5,\n",
       "  6,\n",
       "  7,\n",
       "  8,\n",
       "  9,\n",
       "  10,\n",
       "  11,\n",
       "  12,\n",
       "  13,\n",
       "  14,\n",
       "  15,\n",
       "  16,\n",
       "  17,\n",
       "  18,\n",
       "  19,\n",
       "  20,\n",
       "  21,\n",
       "  22,\n",
       "  23,\n",
       "  24,\n",
       "  25,\n",
       "  26,\n",
       "  27,\n",
       "  28,\n",
       "  29,\n",
       "  30,\n",
       "  31,\n",
       "  32,\n",
       "  33,\n",
       "  34],\n",
       " [31,\n",
       "  32,\n",
       "  33,\n",
       "  34,\n",
       "  35,\n",
       "  36,\n",
       "  37,\n",
       "  38,\n",
       "  39,\n",
       "  40,\n",
       "  41,\n",
       "  42,\n",
       "  43,\n",
       "  44,\n",
       "  45,\n",
       "  46,\n",
       "  47,\n",
       "  48,\n",
       "  49,\n",
       "  50,\n",
       "  51,\n",
       "  52,\n",
       "  53,\n",
       "  54,\n",
       "  55,\n",
       "  56,\n",
       "  57,\n",
       "  58,\n",
       "  59,\n",
       "  60,\n",
       "  61,\n",
       "  62,\n",
       "  63,\n",
       "  64,\n",
       "  65,\n",
       "  66,\n",
       "  67],\n",
       " [64,\n",
       "  65,\n",
       "  66,\n",
       "  67,\n",
       "  68,\n",
       "  69,\n",
       "  70,\n",
       "  71,\n",
       "  72,\n",
       "  73,\n",
       "  74,\n",
       "  75,\n",
       "  76,\n",
       "  77,\n",
       "  78,\n",
       "  79,\n",
       "  80,\n",
       "  81,\n",
       "  82,\n",
       "  83,\n",
       "  84,\n",
       "  85,\n",
       "  86,\n",
       "  87,\n",
       "  88,\n",
       "  89,\n",
       "  90,\n",
       "  91,\n",
       "  92,\n",
       "  93,\n",
       "  94,\n",
       "  95,\n",
       "  96,\n",
       "  97,\n",
       "  98,\n",
       "  99,\n",
       "  100],\n",
       " [97,\n",
       "  98,\n",
       "  99,\n",
       "  100,\n",
       "  101,\n",
       "  102,\n",
       "  103,\n",
       "  104,\n",
       "  105,\n",
       "  106,\n",
       "  107,\n",
       "  108,\n",
       "  109,\n",
       "  110,\n",
       "  111,\n",
       "  112,\n",
       "  113,\n",
       "  114,\n",
       "  115,\n",
       "  116,\n",
       "  117,\n",
       "  118,\n",
       "  119,\n",
       "  120,\n",
       "  121,\n",
       "  122,\n",
       "  123,\n",
       "  124,\n",
       "  125,\n",
       "  126,\n",
       "  127,\n",
       "  128,\n",
       "  129,\n",
       "  130,\n",
       "  131,\n",
       "  132]]"
      ]
     },
     "execution_count": 13,
     "metadata": {},
     "output_type": "execute_result"
    }
   ],
   "source": [
    "page_ranges"
   ]
  },
  {
   "cell_type": "code",
   "execution_count": null,
   "metadata": {},
   "outputs": [],
   "source": [
    "import pymupdf4llm\n",
    "import fitz"
   ]
  },
  {
   "cell_type": "code",
   "execution_count": 11,
   "metadata": {},
   "outputs": [
    {
     "name": "stdout",
     "output_type": "stream",
     "text": [
      "Processing C:\\Users\\prana\\Downloads\\archive\\Manuals\\exercise bikes.pdf...\n",
      "[                                        ] (0/3[=                                       ] ( 1/3[==                                      ] ( 2/36[===                                     ] ( 3/3[====                                    ] ( 4/36[=====                                   ] ( 5/3[======                                  ] ( 6/36[=======                                 ] ( 7/3[========                                ] ( 8/36=[==========                              ] ( 9/36[===========                             ] (10/3[============                            ] (11/36[=============                           ] (12/3[==============                          ] (13/36[===============                         ] (14/3[================                        ] (15/36[=================                       ] (16/3[==================                      ] (17/36=[====================                    ] (18/36[=====================                   ] (19/3[======================                  ] (20/36[=======================                 ] (21/3[========================                ] (22/36[=========================               ] (23/3[==========================              ] (24/36[===========================             ] (25/3[============================            ] (26/36=[==============================          ] (27/36[===============================         ] (28/3[================================        ] (29/36[=================================       ] (30/3[==================================      ] (31/36[===================================     ] (32/3[====================================    ] (33/36[=====================================   ] (34/3[======================================  ] (35/36=[========================================] (36/36]\n"
     ]
    }
   ],
   "source": [
    "pages = pymupdf4llm.to_markdown(r\"C:\\Users\\prana\\Downloads\\archive\\Manuals\\exercise bikes.pdf\", page_chunks=True)"
   ]
  },
  {
   "cell_type": "code",
   "execution_count": 12,
   "metadata": {},
   "outputs": [
    {
     "data": {
      "text/plain": [
       "{'metadata': {'format': 'PDF 1.5',\n",
       "  'title': '',\n",
       "  'author': '',\n",
       "  'subject': '',\n",
       "  'keywords': '',\n",
       "  'creator': 'Adobe InDesign CS6 (Windows)',\n",
       "  'producer': 'Adobe PDF Library 10.0.1',\n",
       "  'creationDate': \"D:20141009155340-07'00'\",\n",
       "  'modDate': \"D:20141009155422-07'00'\",\n",
       "  'trapped': '',\n",
       "  'encryption': None,\n",
       "  'file_path': 'C:\\\\Users\\\\prana\\\\Downloads\\\\archive\\\\Manuals\\\\exercise bikes.pdf',\n",
       "  'page_count': 36,\n",
       "  'page': 27},\n",
       " 'toc_items': [],\n",
       " 'tables': [],\n",
       " 'images': [],\n",
       " 'graphics': [],\n",
       " 'text': '3. \\x07Push the Increase(\\uf081) or Decrease(\\uf082) buttons to select the Goal type, and push OK.\\n\\n4. \\x07Push the Increase(\\uf081) or Decrease(\\uf082) buttons to set the goal value for the workout.\\n\\n\\x07Note: Be sure to allow time for your heart rate to reach the desired heart rate zone when setting the goal.\\n\\n5. \\x07Push OK to start the workout.\\n\\n###### Changing a Workout Program During a Workout\\nThe Console allows a different Workout Program to be started from an active workout.\\n\\n1. \\x07From an active workout, push PROGRAMS.\\n\\n2. \\x07Push the Increase(\\uf081) or Decrease(\\uf082) buttons to select the desired workout program, and push OK.\\n\\n3. \\x07Push the Increase(\\uf081) or Decrease(\\uf082) buttons to select the Goal type, and push OK.\\n\\n4. \\x07Push the Increase(\\uf081) or Decrease(\\uf082) buttons to set the value for the workout.\\n\\n5. \\x07Push OK to stop the active workout and start the new workout.\\n\\nThe workout values are saved to the User Profile.\\n\\n###### Pausing or Stopping\\nThe Console will go into Pause Mode if the user stops pedaling and pushes PAUSE/END during a workout, or there is no\\nRPM signal for 5 seconds (user not pedaling). The Console will cycle through a series of messages that change every 4\\nseconds:\\n\\n  - WORKOUT PAUSED\\n\\n  - PEDAL TO CONTINUE (if a bike) / STRIDE TO CONTINUE (if an elliptical)\\n\\n  - PUSH END TO STOP\\n\\nDuring a paused workout, you can use the Increase/Decrease buttons to move through the result channels manually.\\n\\n1. Stop pedaling and push the PAUSE/END button to pause your workout.\\n\\n2. To continue your workout, push OK or start pedaling.\\n\\n\\x07To stop the workout, push the PAUSE/END button. The Console will go into Results / Cool Down mode.\\n\\n###### Results / Cool Down Mode\\nAfter a workout the GOAL display shows 03:00 and then starts to count down. During this Cool Down period, the Console\\nshows the Workout Results. All workouts except Quick Start have a 3-minute Cool Down period.\\n\\nThe LCD display shows the Current Workout values in three channels:\\n\\na.) \\x07TIME (total), DISTANCE (total), and CALORIES (total)\\n\\nb.) \\x07SPEED (average), RPM (average), and HEART RATE (average)\\n\\nc.) \\x07TIME (average), LEVEL (average), and CALORIES (average).\\n\\nPush the Left(\\uf083) or Right(\\uf084) buttons to move through the result channels manually.\\n\\nDuring the Cool Down period, the Resistance Level will adjust to a third of the average Level of the workout. The Cool Down\\nresistance level can be adjusted with the Resistance Increase and Decrease buttons, but the Console will not display the\\nvalue.\\n\\nYou can push PAUSE/END to stop the Results / Cool Down period and go back to Power-Up Mode. If there is no RPM or HR\\nsignal, the Console automatically goes into Sleep Mode.\\n\\n\\n-----\\n\\n',\n",
       " 'words': []}"
      ]
     },
     "execution_count": 12,
     "metadata": {},
     "output_type": "execute_result"
    }
   ],
   "source": [
    "pages[26]"
   ]
  },
  {
   "cell_type": "code",
   "execution_count": null,
   "metadata": {},
   "outputs": [],
   "source": []
  }
 ],
 "metadata": {
  "kernelspec": {
   "display_name": "genai",
   "language": "python",
   "name": "python3"
  },
  "language_info": {
   "codemirror_mode": {
    "name": "ipython",
    "version": 3
   },
   "file_extension": ".py",
   "mimetype": "text/x-python",
   "name": "python",
   "nbconvert_exporter": "python",
   "pygments_lexer": "ipython3",
   "version": "3.10.15"
  }
 },
 "nbformat": 4,
 "nbformat_minor": 2
}
